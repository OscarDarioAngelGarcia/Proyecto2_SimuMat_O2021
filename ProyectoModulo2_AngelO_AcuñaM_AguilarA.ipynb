{
 "cells": [
  {
   "cell_type": "markdown",
   "id": "54b1f30f",
   "metadata": {},
   "source": [
    "- **Oscar Darío Angel García nt720784**\n",
    "- **Maximiliano Acuña Valenzuela nt721662**\n",
    "- **Alfonso Aguilar Zamora nt721246**\n",
    "---"
   ]
  },
  {
   "cell_type": "markdown",
   "id": "cacc94b6",
   "metadata": {},
   "source": [
    "# Simulación Matemática - Proyecto 2"
   ]
  },
  {
   "cell_type": "code",
   "execution_count": 40,
   "id": "37035f3f",
   "metadata": {},
   "outputs": [],
   "source": [
    "import numpy as np\n",
    "import matplotlib.pyplot as plt\n",
    "import pandas as pd"
   ]
  },
  {
   "cell_type": "markdown",
   "id": "5d155af7",
   "metadata": {},
   "source": [
    "### Problema.\n",
    "Se busca aproximar el volumen de diversas nanoestructuras geométricas a partir de integrar su área mediante simulación montecarlo, pues de estas estructuras es dificil poder medir volumenes tan pequeños mediante instrumentación, mas sí podemos conocer medidas lineales como su ancho, largo o espesor, de modo que al presentarse geometría plana en estas estructuras,\n",
    "pueden ser tratadas como sólidos de revolucióny ser integrables para conocer su volumen en base al área superficial."
   ]
  },
  {
   "cell_type": "markdown",
   "id": "f7afb801",
   "metadata": {},
   "source": [
    "* Método de Discos <br>\n",
    "    Consiste en que un sólido formado por una figura plana rotando sobre un mismo eje, se divide en varias secciones circulares conocidas como discos los cuales poseen un volumen diferencial y al sumar todos obtenemos el volumen del sólido completo, de modo que la función  integrar se expresa como:\n",
    "$$V(\\mathcal{x})=\\int_{a}^{b}\\pi[f(x)]^2\\text{d}x$$\n",
    "\n",
    "* Método de Capas <br>\n",
    "    Consiste en suponer que un sólido se descompone en varias capas superpuestas una sobre la otra de espesor diferencial, de modo que al superponer todas las capas se obtiene el volumen del sólido de revolución, de modo que la función a integrar se expresa como:\n",
    "$$V(\\mathcal{x})=\\int_{a}^{b}2\\pi p(x)h(x)\\text{d}x$$\n",
    "donde h(x) representa la función que define la altura del sólido, mientras que p(x) representa la distancia del la capa al centro del eje de rotación, también llamado radio.\n",
    "\n",
    "*importante señalar que estas expresiones aplican cuando el eje de rotación del sólido se encuentra sobre un eje, ya sea en y=0 ó en x=0.*"
   ]
  },
  {
   "cell_type": "code",
   "execution_count": 39,
   "id": "307cfb1d",
   "metadata": {},
   "outputs": [
    {
     "data": {
      "image/png": "[encoded data removed]",
      "text/plain": [
       "<Figure size 432x288 with 1 Axes>"
      ]
     },
     "metadata": {
      "needs_background": "light"
     },
     "output_type": "display_data"
    }
   ],
   "source": [
    "x=np.linspace(0,4,100)\n",
    "x2=np.linspace(-5,5,100)\n",
    "y=(x**2)\n",
    "y2=(x2**2)\n",
    "\n",
    "origen=np.linspace(-5,5,100)\n",
    "origeny=(0*o)\n",
    "eje=np.linspace(0,25,100)\n",
    "eje2=(0*eje)\n",
    "\n",
    "plt.plot(eje2,eje,'k--',label='Eje de rotación')\n",
    "plt.plot(origen,origeny,'r')\n",
    "plt.plot(x2,y2,'k')\n",
    "plt.plot(x,y,'k',label='$f(x)$')\n",
    "plt.fill_between(x,y)\n",
    "\n",
    "r=np.linspace(np.sqrt(5),np.sqrt(7.5),100)\n",
    "ry1=(0*r)\n",
    "ry2=(0*r+7.5)\n",
    "plt.plot(r,ry1)\n",
    "plt.plot(r,ry2)\n",
    "plt.fill_between(r,ry1,ry2)\n",
    "\n",
    "plt.text(3.0,3.5,'$\\mathcal{h}$',fontsize=10)\n",
    "plt.text(4.5,0.75,'$\\mathcal{p(x)}$',fontsize=10)\n",
    "plt.legend(loc='best')                            \n",
    "plt.grid()"
   ]
  },
  {
   "cell_type": "markdown",
   "id": "33a4e78b",
   "metadata": {},
   "source": [
    "* Se buscará aproximar el volumen para 3 nanoestructuras:\n",
    "    - Nanopartícula esférica\n",
    "    - Nanovarilla cilindrica\n",
    "    - Nanoalambre (cilindro con punta cónica)\n",
    "* Se realizarán aproximaciones con 10^n términos tal que n=1..6 y se tabularán los resultados junto al error relativo\n",
    "* Se realizarán las aproximaciones para 3 medidas diferentes de la misma nanoestructura para comparar <br> la efectividad del método y la relación área:volumen\n",
    "* Se buscará graficar al menos un sólido por cada estructura en un plano 3D"
   ]
  },
  {
   "cell_type": "code",
   "execution_count": 47,
   "id": "2b52147d",
   "metadata": {},
   "outputs": [
    {
     "data": {
      "text/html": [
       "<div>\n",
       "<style scoped>\n",
       "    .dataframe tbody tr th:only-of-type {\n",
       "        vertical-align: middle;\n",
       "    }\n",
       "\n",
       "    .dataframe tbody tr th {\n",
       "        vertical-align: top;\n",
       "    }\n",
       "\n",
       "    .dataframe thead th {\n",
       "        text-align: right;\n",
       "    }\n",
       "</style>\n",
       "<table border=\"1\" class=\"dataframe\">\n",
       "  <thead>\n",
       "    <tr style=\"text-align: right;\">\n",
       "      <th></th>\n",
       "      <th>radio (x10^-9 m)</th>\n",
       "    </tr>\n",
       "  </thead>\n",
       "  <tbody>\n",
       "    <tr>\n",
       "      <th>1</th>\n",
       "      <td>10</td>\n",
       "    </tr>\n",
       "    <tr>\n",
       "      <th>2</th>\n",
       "      <td>25</td>\n",
       "    </tr>\n",
       "    <tr>\n",
       "      <th>3</th>\n",
       "      <td>50</td>\n",
       "    </tr>\n",
       "  </tbody>\n",
       "</table>\n",
       "</div>"
      ],
      "text/plain": [
       "  radio (x10^-9 m)\n",
       "1               10\n",
       "2               25\n",
       "3               50"
      ]
     },
     "execution_count": 47,
     "metadata": {},
     "output_type": "execute_result"
    }
   ],
   "source": [
    "i=np.array([1,2,3])\n",
    "\n",
    "#Se muestra una tabla con las medidas que se manejarán para la nanoesfera\n",
    "esfera=pd.DataFrame(columns=['radio (x10^-9 m)'],index=i)\n",
    "esfera.loc[i,'radio (x10^-9 m)']=np.array([10,25,50])\n",
    "esfera"
   ]
  },
  {
   "cell_type": "code",
   "execution_count": 46,
   "id": "368836b0",
   "metadata": {},
   "outputs": [
    {
     "data": {
      "text/html": [
       "<div>\n",
       "<style scoped>\n",
       "    .dataframe tbody tr th:only-of-type {\n",
       "        vertical-align: middle;\n",
       "    }\n",
       "\n",
       "    .dataframe tbody tr th {\n",
       "        vertical-align: top;\n",
       "    }\n",
       "\n",
       "    .dataframe thead th {\n",
       "        text-align: right;\n",
       "    }\n",
       "</style>\n",
       "<table border=\"1\" class=\"dataframe\">\n",
       "  <thead>\n",
       "    <tr style=\"text-align: right;\">\n",
       "      <th></th>\n",
       "      <th>radio (x10^-9 m)</th>\n",
       "      <th>largo (x10^-9 m)</th>\n",
       "    </tr>\n",
       "  </thead>\n",
       "  <tbody>\n",
       "    <tr>\n",
       "      <th>1</th>\n",
       "      <td>10</td>\n",
       "      <td>100</td>\n",
       "    </tr>\n",
       "    <tr>\n",
       "      <th>2</th>\n",
       "      <td>25</td>\n",
       "      <td>500</td>\n",
       "    </tr>\n",
       "    <tr>\n",
       "      <th>3</th>\n",
       "      <td>50</td>\n",
       "      <td>750</td>\n",
       "    </tr>\n",
       "  </tbody>\n",
       "</table>\n",
       "</div>"
      ],
      "text/plain": [
       "  radio (x10^-9 m) largo (x10^-9 m)\n",
       "1               10              100\n",
       "2               25              500\n",
       "3               50              750"
      ]
     },
     "execution_count": 46,
     "metadata": {},
     "output_type": "execute_result"
    }
   ],
   "source": [
    "#Se muestra una tabla con las medidas que se manejarán para la nanovarilla\n",
    "varilla=pd.DataFrame(columns=['radio (x10^-9 m)','largo (x10^-9 m)'],index=i)\n",
    "varilla.loc[i,'radio (x10^-9 m)']=np.array([10,25,50])\n",
    "varilla.loc[i,'largo (x10^-9 m)']=np.array([100,500,750])\n",
    "varilla"
   ]
  },
  {
   "cell_type": "code",
   "execution_count": 48,
   "id": "70f24684",
   "metadata": {},
   "outputs": [
    {
     "data": {
      "text/html": [
       "<div>\n",
       "<style scoped>\n",
       "    .dataframe tbody tr th:only-of-type {\n",
       "        vertical-align: middle;\n",
       "    }\n",
       "\n",
       "    .dataframe tbody tr th {\n",
       "        vertical-align: top;\n",
       "    }\n",
       "\n",
       "    .dataframe thead th {\n",
       "        text-align: right;\n",
       "    }\n",
       "</style>\n",
       "<table border=\"1\" class=\"dataframe\">\n",
       "  <thead>\n",
       "    <tr style=\"text-align: right;\">\n",
       "      <th></th>\n",
       "      <th>radio (x10^-9 m)</th>\n",
       "      <th>largo (x10^-6 m)</th>\n",
       "      <th>punta (x10^-9 m)</th>\n",
       "    </tr>\n",
       "  </thead>\n",
       "  <tbody>\n",
       "    <tr>\n",
       "      <th>1</th>\n",
       "      <td>10</td>\n",
       "      <td>2</td>\n",
       "      <td>50</td>\n",
       "    </tr>\n",
       "    <tr>\n",
       "      <th>2</th>\n",
       "      <td>25</td>\n",
       "      <td>3</td>\n",
       "      <td>125</td>\n",
       "    </tr>\n",
       "    <tr>\n",
       "      <th>3</th>\n",
       "      <td>50</td>\n",
       "      <td>5</td>\n",
       "      <td>250</td>\n",
       "    </tr>\n",
       "  </tbody>\n",
       "</table>\n",
       "</div>"
      ],
      "text/plain": [
       "  radio (x10^-9 m) largo (x10^-6 m) punta (x10^-9 m)\n",
       "1               10                2               50\n",
       "2               25                3              125\n",
       "3               50                5              250"
      ]
     },
     "execution_count": 48,
     "metadata": {},
     "output_type": "execute_result"
    }
   ],
   "source": [
    "#Se muestra una tabla con las medidas que se manejarán para el nanoalambre\n",
    "    #'punta' hace referencia al largo de la punta del alambre, equivalente a la altura del cono que la forma.\n",
    "alambre=pd.DataFrame(columns=['radio (x10^-9 m)','largo (x10^-6 m)','punta (x10^-9 m)'],index=i)\n",
    "alambre.loc[i,'radio (x10^-9 m)']=np.array([10,25,50])\n",
    "alambre.loc[i,'largo (x10^-6 m)']=np.array([2,3,5])\n",
    "alambre.loc[i,'punta (x10^-9 m)']=np.array([50, 125, 250])\n",
    "alambre"
   ]
  },
  {
   "cell_type": "code",
   "execution_count": null,
   "id": "3eb51762",
   "metadata": {},
   "outputs": [],
   "source": [
    "#Esfera"
   ]
  },
  {
   "cell_type": "code",
   "execution_count": null,
   "id": "ef043f21",
   "metadata": {},
   "outputs": [],
   "source": [
    "#Varilla"
   ]
  },
  {
   "cell_type": "code",
   "execution_count": null,
   "id": "4403e054",
   "metadata": {},
   "outputs": [],
   "source": [
    "#Alambre"
   ]
  }
 ],
 "metadata": {
  "kernelspec": {
   "display_name": "Python 3",
   "language": "python",
   "name": "python3"
  },
  "language_info": {
   "codemirror_mode": {
    "name": "ipython",
    "version": 3
   },
   "file_extension": ".py",
   "mimetype": "text/x-python",
   "name": "python",
   "nbconvert_exporter": "python",
   "pygments_lexer": "ipython3",
   "version": "3.8.8"
  }
 },
 "nbformat": 4,
 "nbformat_minor": 5
}
